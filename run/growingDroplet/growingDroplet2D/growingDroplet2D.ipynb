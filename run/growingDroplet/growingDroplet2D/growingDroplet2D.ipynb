{
 "cells": [
  {
   "cell_type": "code",
   "execution_count": 3,
   "id": "dc925978",
   "metadata": {
    "scrolled": false
   },
   "outputs": [
    {
     "ename": "KeyError",
     "evalue": "\"None of ['ADVANCING_CA', 'CURV_FROM_TRACE', 'RES_HEIGHT', 'INLET_FRACTION'] are in the columns\"",
     "output_type": "error",
     "traceback": [
      "\u001b[0;31m---------------------------------------------------------------------------\u001b[0m",
      "\u001b[0;31mKeyError\u001b[0m                                  Traceback (most recent call last)",
      "Input \u001b[0;32mIn [3]\u001b[0m, in \u001b[0;36m<module>\u001b[0;34m\u001b[0m\n\u001b[1;32m     30\u001b[0m \u001b[38;5;66;03m# Read CSV data\u001b[39;00m\n\u001b[1;32m     31\u001b[0m df \u001b[38;5;241m=\u001b[39m pd\u001b[38;5;241m.\u001b[39mread_csv(\u001b[38;5;124m\"\u001b[39m\u001b[38;5;124mgrowing_droplet_data.csv\u001b[39m\u001b[38;5;124m\"\u001b[39m)\n\u001b[0;32m---> 32\u001b[0m \u001b[43mdf\u001b[49m\u001b[38;5;241;43m.\u001b[39;49m\u001b[43mset_index\u001b[49m\u001b[43m(\u001b[49m\u001b[43m[\u001b[49m\u001b[38;5;124;43m\"\u001b[39;49m\u001b[38;5;124;43mADVANCING_CA\u001b[39;49m\u001b[38;5;124;43m\"\u001b[39;49m\u001b[43m,\u001b[49m\u001b[43m \u001b[49m\u001b[38;5;124;43m\"\u001b[39;49m\u001b[38;5;124;43mCURV_FROM_TRACE\u001b[39;49m\u001b[38;5;124;43m\"\u001b[39;49m\u001b[43m,\u001b[49m\u001b[43m \u001b[49m\u001b[38;5;124;43m\"\u001b[39;49m\u001b[38;5;124;43mRES_HEIGHT\u001b[39;49m\u001b[38;5;124;43m\"\u001b[39;49m\u001b[43m,\u001b[49m\u001b[43m \u001b[49m\u001b[38;5;124;43m\"\u001b[39;49m\u001b[38;5;124;43mINLET_FRACTION\u001b[39;49m\u001b[38;5;124;43m\"\u001b[39;49m\u001b[43m]\u001b[49m\u001b[43m,\u001b[49m\u001b[43m \u001b[49m\u001b[43minplace\u001b[49m\u001b[38;5;241;43m=\u001b[39;49m\u001b[38;5;28;43;01mTrue\u001b[39;49;00m\u001b[43m)\u001b[49m\n\u001b[1;32m     33\u001b[0m df\u001b[38;5;241m.\u001b[39msort_index(inplace\u001b[38;5;241m=\u001b[39m\u001b[38;5;28;01mTrue\u001b[39;00m)\n\u001b[1;32m     36\u001b[0m \u001b[38;5;66;03m# Test case configuration parameters\u001b[39;00m\n",
      "File \u001b[0;32m~/.local/lib/python3.8/site-packages/pandas/util/_decorators.py:311\u001b[0m, in \u001b[0;36mdeprecate_nonkeyword_arguments.<locals>.decorate.<locals>.wrapper\u001b[0;34m(*args, **kwargs)\u001b[0m\n\u001b[1;32m    305\u001b[0m \u001b[38;5;28;01mif\u001b[39;00m \u001b[38;5;28mlen\u001b[39m(args) \u001b[38;5;241m>\u001b[39m num_allow_args:\n\u001b[1;32m    306\u001b[0m     warnings\u001b[38;5;241m.\u001b[39mwarn(\n\u001b[1;32m    307\u001b[0m         msg\u001b[38;5;241m.\u001b[39mformat(arguments\u001b[38;5;241m=\u001b[39marguments),\n\u001b[1;32m    308\u001b[0m         \u001b[38;5;167;01mFutureWarning\u001b[39;00m,\n\u001b[1;32m    309\u001b[0m         stacklevel\u001b[38;5;241m=\u001b[39mstacklevel,\n\u001b[1;32m    310\u001b[0m     )\n\u001b[0;32m--> 311\u001b[0m \u001b[38;5;28;01mreturn\u001b[39;00m \u001b[43mfunc\u001b[49m\u001b[43m(\u001b[49m\u001b[38;5;241;43m*\u001b[39;49m\u001b[43margs\u001b[49m\u001b[43m,\u001b[49m\u001b[43m \u001b[49m\u001b[38;5;241;43m*\u001b[39;49m\u001b[38;5;241;43m*\u001b[39;49m\u001b[43mkwargs\u001b[49m\u001b[43m)\u001b[49m\n",
      "File \u001b[0;32m~/.local/lib/python3.8/site-packages/pandas/core/frame.py:5494\u001b[0m, in \u001b[0;36mDataFrame.set_index\u001b[0;34m(self, keys, drop, append, inplace, verify_integrity)\u001b[0m\n\u001b[1;32m   5491\u001b[0m                 missing\u001b[38;5;241m.\u001b[39mappend(col)\n\u001b[1;32m   5493\u001b[0m \u001b[38;5;28;01mif\u001b[39;00m missing:\n\u001b[0;32m-> 5494\u001b[0m     \u001b[38;5;28;01mraise\u001b[39;00m \u001b[38;5;167;01mKeyError\u001b[39;00m(\u001b[38;5;124mf\u001b[39m\u001b[38;5;124m\"\u001b[39m\u001b[38;5;124mNone of \u001b[39m\u001b[38;5;132;01m{\u001b[39;00mmissing\u001b[38;5;132;01m}\u001b[39;00m\u001b[38;5;124m are in the columns\u001b[39m\u001b[38;5;124m\"\u001b[39m)\n\u001b[1;32m   5496\u001b[0m \u001b[38;5;28;01mif\u001b[39;00m inplace:\n\u001b[1;32m   5497\u001b[0m     frame \u001b[38;5;241m=\u001b[39m \u001b[38;5;28mself\u001b[39m\n",
      "\u001b[0;31mKeyError\u001b[0m: \"None of ['ADVANCING_CA', 'CURV_FROM_TRACE', 'RES_HEIGHT', 'INLET_FRACTION'] are in the columns\""
     ]
    }
   ],
   "source": [
    "# Growing droplet 2D evaluation and visualization notebook.\n",
    "# For whatever reason, Markdown cells do not work in WSL, so there is only Python code and comments\n",
    "\n",
    "from math import *\n",
    "import pandas as pd\n",
    "import matplotlib.pyplot as plt\n",
    "import os\n",
    "\n",
    "def time_within_hysteresis(startCA, advancingCA, radius0, vps):\n",
    "    \"\"\"\n",
    "    Compute the time required to reach the advancing contact angle\n",
    "    for a given initial spherical cap droplet configuration.\n",
    "    \n",
    "    startCA:     initial contact angle in degree\n",
    "    advancingCA: advancing contact in degree\n",
    "    radius0:     initial droplet radius in millimeter\n",
    "    vps:         inflow rate defined initial droplet volumes per second\n",
    "    \"\"\"\n",
    "    sca = startCA*pi/180\n",
    "    aca = advancingCA*pi/180\n",
    "    \n",
    "    A0 = radius0**2*(sca - sin(sca)*cos(sca))\n",
    "    radv = radius0*sin(sca)/sin(aca)\n",
    "    Aadv = radv**2*(aca - sin(aca*cos(aca)))\n",
    "    \n",
    "    time = (Aadv - A0)/(A0*vps)\n",
    "    \n",
    "    return time\n",
    "\n",
    "# Read CSV data\n",
    "df = pd.read_csv(\"growingDroplet2D_data.csv\")\n",
    "df.set_index([\"ADVANCING_CA\", \"CURV_FROM_TRACE\", \"RES_HEIGHT\", \"INLET_FRACTION\"], inplace=True)\n",
    "df.sort_index(inplace=True)\n",
    "\n",
    "\n",
    "# Test case configuration parameters\n",
    "initialCA = 60;\n",
    "droplet_radius = 1.0;\n",
    "\n",
    "# Parameters from metadata\n",
    "advancingCAs = df.index.get_level_values('ADVANCING_CA').unique().tolist()\n",
    "inlet_fractions = df.index.get_level_values('INLET_FRACTION').unique().tolist()\n",
    "\n",
    "for aca in advancingCAs:\n",
    "    for flux in inlet_fractions:\n",
    "        print(\"Hysteresis time for CAadv =\", aca, \"and inlet_fraction=\", flux,\n",
    "             \": \", time_within_hysteresis(initialCA, aca, droplet_radius, flux))\n",
    "    \n",
    "\n",
    "for params, subsetdf in  df.groupby(level=[\"ADVANCING_CA\", \"CURV_FROM_TRACE\", \"INLET_FRACTION\"]):\n",
    "    fig, ax = plt.subplots(figsize=(12,8), dpi=150)\n",
    "\n",
    "    for value, plotdf in subsetdf.groupby(level=\"RES_HEIGHT\"):\n",
    "            ax.plot(plotdf[\"time\"], plotdf[\"wettedArea\"],\n",
    "                    label=value)\n",
    "    \n",
    "    # Plot an indication line when contact line is expected to start moving as the \n",
    "    # advancing contact angle is reached\n",
    "    # TODO: depending on the advancing contact angle and the inflow rate,\n",
    "    # this tiem value can be much larger than the simulated time. In this case,\n",
    "    # do not plot the line as it warps the rest of the plot too much.\n",
    "    t_move = time_within_hysteresis(initialCA, params[0], droplet_radius, params[2])\n",
    "    ax.axvline(x=t_move, color='grey', linestyle='--')\n",
    "\n",
    "    ax.set_ylabel(\"Wetted Area\")\n",
    "    ax.set_xlabel(\"time in seconds\")\n",
    "\n",
    "    ax.grid(which=\"both\")\n",
    "    ax.legend()\n",
    "    title = ''.join(str(e) for e in params)\n",
    "    ax.set_title(title)\n",
    "    fig.savefig(os.path.join(\"figuredir\", title + \".png\"),\n",
    "                  bbox_inches=\"tight\")"
   ]
  },
  {
   "cell_type": "code",
   "execution_count": null,
   "id": "14ff2174",
   "metadata": {},
   "outputs": [],
   "source": []
  }
 ],
 "metadata": {
  "kernelspec": {
   "display_name": "Python 3 (ipykernel)",
   "language": "python",
   "name": "python3"
  },
  "language_info": {
   "codemirror_mode": {
    "name": "ipython",
    "version": 3
   },
   "file_extension": ".py",
   "mimetype": "text/x-python",
   "name": "python",
   "nbconvert_exporter": "python",
   "pygments_lexer": "ipython3",
   "version": "3.8.10"
  }
 },
 "nbformat": 4,
 "nbformat_minor": 5
}
